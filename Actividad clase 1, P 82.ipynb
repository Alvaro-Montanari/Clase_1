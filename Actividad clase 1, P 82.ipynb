{
 "cells": [
  {
   "cell_type": "markdown",
   "metadata": {},
   "source": [
    "\n",
    "# ACTIVIDAD DE CLASE 1, PAGINA 82\n",
    "* Consigna\n",
    "\n",
    "**Calcular los días de la semana donde hubo un retroceso respecto al día anterior en el valor de la acción de la compañia**\n"
   ]
  },
  {
   "cell_type": "code",
   "execution_count": 14,
   "metadata": {},
   "outputs": [
    {
     "name": "stdout",
     "output_type": "stream",
     "text": [
      "['lunes', 'martes', 'miércoles', 'jueves', 'viernes', 'sábado', 'domingo']\n"
     ]
    }
   ],
   "source": [
    "# Creo una lista para nombrar y posicionar los días de la semana\n",
    "dias_semana = [\"lunes\",\"martes\",\"miércoles\",\"jueves\",\"viernes\",\"sábado\",\"domingo\"]\n",
    "print(dias_semana)"
   ]
  },
  {
   "cell_type": "code",
   "execution_count": 15,
   "metadata": {},
   "outputs": [
    {
     "name": "stdout",
     "output_type": "stream",
     "text": [
      "[200, 225, 232, 221, 243, 256, 255]\n"
     ]
    }
   ],
   "source": [
    "# Creo una lista para los valores correspondientes a cada día de la semana\n",
    "valores_semana = [200, 225, 232, 221, 243, 256, 255]\n",
    "print(valores_semana)\n"
   ]
  },
  {
   "cell_type": "code",
   "execution_count": 16,
   "metadata": {},
   "outputs": [
    {
     "name": "stdout",
     "output_type": "stream",
     "text": [
      "Días con retroceso: [3, 6]\n"
     ]
    }
   ],
   "source": [
    "# Vamos a utilizar esta lista vacía para guardar los índices (posiciones) de los días donde hubo un retroceso en el valor de la acción. \n",
    "# Cada vez que detectemos un retroceso, agregaremos el índice de ese día a esta lista.\n",
    "dias_con_retroceso = []\n",
    "\n",
    "# Recorremos la lista desde el segundo día en adelante (índice 1). Bucle \"for\"\n",
    "for i in range(1, len(valores_semana)):\n",
    "    if valores_semana[i] < valores_semana[i-1]:  # Comparar con el día anterior\n",
    "        dias_con_retroceso.append(i)  # Guardar el índice del día con retroceso\n",
    "\n",
    "# Imprimir los resultados\n",
    "print(\"Días con retroceso:\", dias_con_retroceso)"
   ]
  },
  {
   "cell_type": "code",
   "execution_count": 17,
   "metadata": {},
   "outputs": [
    {
     "name": "stdout",
     "output_type": "stream",
     "text": [
      "Días correspondientes: ['jueves', 'domingo']\n"
     ]
    }
   ],
   "source": [
    "# Convertir los índices a los nombres de los días\n",
    "dias_correspondientes = [dias_semana[i] for i in dias_con_retroceso]\n",
    "\n",
    "# Imprimir los nombres de los días correspondientes\n",
    "print(\"Días correspondientes:\", dias_correspondientes)"
   ]
  }
 ],
 "metadata": {
  "kernelspec": {
   "display_name": "Python 3",
   "language": "python",
   "name": "python3"
  },
  "language_info": {
   "codemirror_mode": {
    "name": "ipython",
    "version": 3
   },
   "file_extension": ".py",
   "mimetype": "text/x-python",
   "name": "python",
   "nbconvert_exporter": "python",
   "pygments_lexer": "ipython3",
   "version": "3.12.5"
  }
 },
 "nbformat": 4,
 "nbformat_minor": 2
}
